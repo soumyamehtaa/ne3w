{
  "cells": [
    {
      "cell_type": "markdown",
      "metadata": {
        "id": "view-in-github",
        "colab_type": "text"
      },
      "source": [
        "<a href=\"https://colab.research.google.com/github/soumyamehtaa/ne3w/blob/main/R8_DTreesVControl_DS110_S24.ipynb\" target=\"_parent\"><img src=\"https://colab.research.google.com/assets/colab-badge.svg\" alt=\"Open In Colab\"/></a>"
      ]
    },
    {
      "cell_type": "markdown",
      "metadata": {
        "id": "PuSz_X2Cm_vO"
      },
      "source": [
        "# Decision Tree Decisions"
      ]
    },
    {
      "cell_type": "markdown",
      "metadata": {
        "id": "dzVcx8kOm_vR"
      },
      "source": [
        "A function that calculates entropy given a number of positive examples and a number of negative examples is provided below.  Use it to calculate the expected entropy for each decision tree feature described below."
      ]
    },
    {
      "cell_type": "code",
      "execution_count": 1,
      "metadata": {
        "id": "9mok_7WOm_vT"
      },
      "outputs": [],
      "source": [
        "import math\n",
        "\n",
        "def entropy(pos,neg):\n",
        "    total = pos+neg\n",
        "    pos_prob = pos/total\n",
        "    neg_prob = neg/total\n",
        "    if pos_prob == 0 or neg_prob == 0:\n",
        "        return 0\n",
        "    return -pos_prob * math.log2(pos_prob) - neg_prob * math.log2(neg_prob)"
      ]
    },
    {
      "cell_type": "markdown",
      "metadata": {
        "id": "qMQiVA_xm_vV"
      },
      "source": [
        "1. The feature splits the examples into two groups.  In one group, all 10 examples are positive examples.  In the other, the examples are evenly split between positive and negative examples, 5 and 5."
      ]
    },
    {
      "cell_type": "code",
      "execution_count": 5,
      "metadata": {
        "colab": {
          "base_uri": "https://localhost:8080/"
        },
        "id": "FY7JDZVIm_vW",
        "outputId": "5db32c7e-a21a-47ca-d157-8ce7af06c677"
      },
      "outputs": [
        {
          "output_type": "stream",
          "name": "stdout",
          "text": [
            "Expected Entropy: 0.5\n"
          ]
        }
      ],
      "source": [
        "# TODO\n",
        "pos_group1 = 10  # Number of positive examples in the first group\n",
        "neg_group1 = 0   # Number of negative examples in the first group\n",
        "\n",
        "pos_group2 = 5   # Number of positive examples in the second group\n",
        "neg_group2 = 5   # Number of negative examples in the second group\n",
        "\n",
        "entropy_group1 = entropy(pos_group1, neg_group1)\n",
        "entropy_group2 = entropy(pos_group2, neg_group2)\n",
        "\n",
        "total_examples = pos_group1 + neg_group1 + pos_group2 + neg_group2\n",
        "weight_group1 = (pos_group1 + neg_group1) / total_examples\n",
        "weight_group2 = (pos_group2 + neg_group2) / total_examples\n",
        "\n",
        "expected_entropy = weight_group1 * entropy_group1 + weight_group2 * entropy_group2\n",
        "\n",
        "print(\"Expected Entropy:\", expected_entropy)"
      ]
    },
    {
      "cell_type": "markdown",
      "metadata": {
        "id": "Q7USiZ4om_vX"
      },
      "source": [
        "2. The feature splits the examples into two groups.  The first group has 8 positive examples and 2 negative examples.  The second group has 8 negative examples and 2 positive examples."
      ]
    },
    {
      "cell_type": "code",
      "execution_count": 6,
      "metadata": {
        "colab": {
          "base_uri": "https://localhost:8080/"
        },
        "id": "G6reEOIrm_vX",
        "outputId": "cb96f1ff-5a69-4c52-c3d8-38edbed4c4a8"
      },
      "outputs": [
        {
          "output_type": "stream",
          "name": "stdout",
          "text": [
            "Expected Entropy: 0.7219280948873623\n"
          ]
        }
      ],
      "source": [
        "# TODO\n",
        "pos_group1 = 8  # Number of positive examples in the first group\n",
        "neg_group1 = 2  # Number of negative examples in the first group\n",
        "\n",
        "pos_group2 = 2  # Number of positive examples in the second group\n",
        "neg_group2 = 8  # Number of negative examples in the second group\n",
        "\n",
        "# Calculate entropy for each group\n",
        "entropy_group1 = entropy(pos_group1, neg_group1)\n",
        "entropy_group2 = entropy(pos_group2, neg_group2)\n",
        "\n",
        "# Calculate the weighted average of the entropies\n",
        "total_examples = pos_group1 + neg_group1 + pos_group2 + neg_group2\n",
        "weight_group1 = (pos_group1 + neg_group1) / total_examples\n",
        "weight_group2 = (pos_group2 + neg_group2) / total_examples\n",
        "\n",
        "expected_entropy = weight_group1 * entropy_group1 + weight_group2 * entropy_group2\n",
        "\n",
        "print(\"Expected Entropy:\", expected_entropy)"
      ]
    },
    {
      "cell_type": "markdown",
      "metadata": {
        "id": "ZNDEkC3gm_vY"
      },
      "source": [
        "3. The feature splits the examples into two groups.  The first group has 13 positive examples and 2 negative examples.  The second group has 4 negative examples and 1 positive example."
      ]
    },
    {
      "cell_type": "code",
      "execution_count": 7,
      "metadata": {
        "colab": {
          "base_uri": "https://localhost:8080/"
        },
        "id": "s5Cn_JeOm_vZ",
        "outputId": "1f060b79-3a66-4ca4-df1c-0cbbe32ad2c2"
      },
      "outputs": [
        {
          "output_type": "stream",
          "name": "stdout",
          "text": [
            "Expected Entropy: 0.6053641536365195\n"
          ]
        }
      ],
      "source": [
        "# TODO\n",
        "pos_group1 = 13  # Number of positive examples in the first group\n",
        "neg_group1 = 2  # Number of negative examples in the first group\n",
        "\n",
        "pos_group2 = 4  # Number of positive examples in the second group\n",
        "neg_group2 = 1  # Number of negative examples in the second group\n",
        "\n",
        "# Calculate entropy for each group\n",
        "entropy_group1 = entropy(pos_group1, neg_group1)\n",
        "entropy_group2 = entropy(pos_group2, neg_group2)\n",
        "\n",
        "# Calculate the weighted average of the entropies\n",
        "total_examples = pos_group1 + neg_group1 + pos_group2 + neg_group2\n",
        "weight_group1 = (pos_group1 + neg_group1) / total_examples\n",
        "weight_group2 = (pos_group2 + neg_group2) / total_examples\n",
        "\n",
        "expected_entropy = weight_group1 * entropy_group1 + weight_group2 * entropy_group2\n",
        "\n",
        "print(\"Expected Entropy:\", expected_entropy)"
      ]
    },
    {
      "cell_type": "markdown",
      "metadata": {
        "id": "Xl7MLFp4m_va"
      },
      "source": [
        "4. Rank these features (1-3) from best to worst in terms of how useful they are in a decision tree."
      ]
    },
    {
      "cell_type": "markdown",
      "metadata": {
        "id": "Cq1moPgsm_va"
      },
      "source": [
        "** **bold text**TODO**\n",
        "1 3 2\n",
        "1.   List item\n",
        "2.   List item\n",
        "\n",
        "\n",
        "1\n",
        "3\n",
        "2[link text](https://)\n",
        "\n",
        "```\n",
        "# This is formatted as code\n",
        "```\n",
        "\n"
      ]
    },
    {
      "cell_type": "markdown",
      "metadata": {
        "id": "5HHQBV-Wm_vc"
      },
      "source": [
        "# Regression"
      ]
    },
    {
      "cell_type": "markdown",
      "metadata": {
        "id": "EAZf19yxm_vc"
      },
      "source": [
        "The following list gives monthly gas prices (per gallon) in Massachusetts from the beginning of the pandemic (March 2020) to the end of 2022.  (Source: https://www.eia.gov/dnav/pet/hist/LeafHandler.ashx?n=PET&s=EMM_EPM0_PTE_SMA_DPG&f=M)  Fit a line to the data and plot it alongside the original data points.  (Note that you'll need to create your own x coordinates - try using np.linspace().)"
      ]
    },
    {
      "cell_type": "code",
      "execution_count": 9,
      "metadata": {
        "id": "YBDSKcUSm_ve"
      },
      "outputs": [],
      "source": [
        "gas_prices = [2.385, 2.015, 2.000, 2.116, 2.178, 2.185, 2.184, 2.160,\n",
        "              2.142, 2.233, 2.381, 2.538, 2.792, 2.823, 2.943, 3.016,\n",
        "              3.088, 3.112, 3.162, 3.308, 3.479, 3.447, 3.409, 3.575,\n",
        "              4.310, 4.171, 4.634, 5.074, 4.728, 4.346, 3.826, 3.700, 3.912, 3.578]"
      ]
    },
    {
      "cell_type": "code",
      "execution_count": 12,
      "metadata": {
        "colab": {
          "base_uri": "https://localhost:8080/",
          "height": 467
        },
        "id": "HTzAZeBpm_vf",
        "outputId": "a532b6c1-851a-4445-f2e2-9a0edca51b7f"
      },
      "outputs": [
        {
          "output_type": "execute_result",
          "data": {
            "text/plain": [
              "[<matplotlib.lines.Line2D at 0x7fe6eefe4190>]"
            ]
          },
          "metadata": {},
          "execution_count": 12
        },
        {
          "output_type": "display_data",
          "data": {
            "text/plain": [
              "<Figure size 640x480 with 1 Axes>"
            ],
            "image/png": "[encoded data removed]"
          },
          "metadata": {}
        }
      ],
      "source": [
        "# TODO\n",
        "import numpy as np\n",
        "import matplotlib.pyplot as plt\n",
        "x = np.linspace(1, len(gas_prices), len(gas_prices))\n",
        "\n",
        "# Fit a line (1st-degree polynomial) to the data\n",
        "coefficients = np.polyfit(x, gas_prices, 1)\n",
        "poly_line = np.poly1d(coefficients)\n",
        "\n",
        "# Generate y coordinates for the line\n",
        "y_line = poly_line(x)\n",
        "\n",
        "# Plot the original data points\n",
        "plt.scatter(x, gas_prices, label='Original Data')\n",
        "\n",
        "# Plot the fitted line\n",
        "plt.plot(x, y_line, color='red', label='Fitted Line')"
      ]
    },
    {
      "cell_type": "markdown",
      "metadata": {
        "id": "0_NFuyxFm_vh"
      },
      "source": [
        "# Tool focus:  Version Control\n",
        "\n",
        "Have you ever worked on a project where you needed to pass around a file to modify?  You probably were a little discontent with the process.  Near the end, it may have been hard to determine whether FinalFinal.docx was really your most recent copy, or if there might be a FinalFinalFinal.docx that was more recent.  If you were collaborating, it may have been annoying to try to keep people from working on the same stuff simultaneously.  And if you wanted to go back to an earlier version, you could only hope you saved a separate version around the right time."
      ]
    },
    {
      "cell_type": "markdown",
      "metadata": {
        "id": "Sf7C6avQm_vi"
      },
      "source": [
        "*Version control*, and the git/Github software and site in particular, is the programmer's answer to all the aforementioned problems.\n",
        "\n",
        "* A central server keeps track of a series of versions of the code.  It's always clear what the most recent version is, and it's relatively easy to go back to an earlier version.  If code becomes buggy, this helps determine when the bug was introduced.\n",
        "\n",
        "* When people get copies to work on locally, on their own machines, they create their own individual histories locally.  People are free to ignore their collaborators' work until they merge their changes back into the central repository.\n",
        "\n",
        "* When it's time to merge local changes into the central repository, the code is scanned for differences, and any discrepancies resulting from others' changes are highlighted and resolved."
      ]
    },
    {
      "cell_type": "markdown",
      "metadata": {
        "id": "j4WqnKWTm_vj"
      },
      "source": [
        "If you become familiar with version control now, it may especially help with the final project, where you will have multiple individuals trying to work with the same files at the same time."
      ]
    },
    {
      "cell_type": "markdown",
      "metadata": {
        "id": "H3YvJSlpm_vk"
      },
      "source": [
        "* If you do not already have a github account, go create one now at:  https://github.com/\n",
        "* Once you've created an account, create a new repository.  If you don't see the big green button immediately, you can click on yourself, then on \"Repositories,\" then \"New\" in the upper right.\n",
        "* Name your repository something arbitrary, like \"repo_test.\"  Also make it private (this is what you'd want to do for homework and other sensitive stuff).  Make a README file (because it also sets up a \"branch\" that you can commit to).  The other options don't really matter right now.\n",
        "* Assuming you are doing this recitation in Colab, go to File->Save a copy in GitHub.  Choose your notebook and save it to GitHub!  (You might also change the commit message - this is a good habit to get into so that you can find particular versions later.)\n",
        "* Check the repo on the GitHub website (under your username->Repositories), and verify that your code is now on the web (privately, assuming you chose \"private\")."
      ]
    },
    {
      "cell_type": "markdown",
      "metadata": {
        "id": "tfdrAUF_m_vl"
      },
      "source": [
        "* Now let's try going back to an earlier version.  Fill the following code box with junk, and File->Save a copy in GitHub."
      ]
    },
    {
      "cell_type": "code",
      "execution_count": null,
      "metadata": {
        "id": "QdcZcIfLm_vl"
      },
      "outputs": [],
      "source": []
    },
    {
      "cell_type": "markdown",
      "metadata": {
        "id": "KXh1eQUAm_vm"
      },
      "source": [
        "* You can now see both versions of the notebook in the GitHub repository history.  (Repositories->your_repo_name->your_filename->History, with the clock icon.)\n",
        "* To open the most recent version, go to \"File->Open Notebook\" in Colab and choose the GitHub tab at the top.  Choose your repo and open it.\n",
        "* You can also access the versions in your history from Colab.  Go to File->Revision History.  (Notice that the right-hand side displays differences between the files.)  The dots next to each item in the history have the option of Open in Colab.  Try restoring an old version now."
      ]
    },
    {
      "cell_type": "markdown",
      "metadata": {
        "id": "KVtT3riom_vn"
      },
      "source": [
        "* Last, try collaborating with someone on this file.  Within your repo on GitHub, go to Settings->Collaborators->Add people.  Add someone in your section who is willing to share their username with you.  \"Sign\" each others' work in the last text box, and show this along with your completed code to the TA to finish this section."
      ]
    },
    {
      "cell_type": "markdown",
      "metadata": {
        "id": "1yirNfN4m_vo"
      },
      "source": [
        "**Your collaborator's signature here**"
      ]
    },
    {
      "cell_type": "code",
      "execution_count": null,
      "metadata": {
        "id": "cmdcmQIpm_vp"
      },
      "outputs": [],
      "source": []
    }
  ],
  "metadata": {
    "colab": {
      "provenance": [],
      "include_colab_link": true
    },
    "kernelspec": {
      "display_name": "Python 3",
      "language": "python",
      "name": "python3"
    },
    "language_info": {
      "codemirror_mode": {
        "name": "ipython",
        "version": 3
      },
      "file_extension": ".py",
      "mimetype": "text/x-python",
      "name": "python",
      "nbconvert_exporter": "python",
      "pygments_lexer": "ipython3",
      "version": "3.8.8"
    }
  },
  "nbformat": 4,
  "nbformat_minor": 0
}